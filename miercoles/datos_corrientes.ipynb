{
 "cells": [
  {
   "cell_type": "markdown",
   "id": "6dc0399b-1870-442f-bd24-f410fce2c329",
   "metadata": {},
   "source": [
    "# Datos de corrientes\n",
    "Este documento se centra sobre la lectura y la representación de datos de corrientes en oceanografía.\n",
    "![Captura de pantalla de https://earth.nullschool.net](img/currents.png)\n",
    "\n",
    "La figura es una captura de pantalla de https://earth.nullschool.net, donde observamos las corrientes en el Pacífico Ecuatorial, a una profundidad de 5 metros.\n",
    "\n",
    "## Cómo se miden las corrientes?       \n",
    "\n",
    "Existen varias maneras de medir las corrientes a la superficie del océano (mientras la estimación de la velocidad a varias profundidades resulta más complejo)\n",
    "\n",
    "- con **boyas de derivas** (_drifting buoys_): proporcionan una serie de posiciones, adquiridas por satélite, que permiten estimar la corriente de superficie;\n",
    "- con un **radar de alta frecuencia** (_HF radar_): proporcionan las corrientes en una zona determinada, gracias a un sistema de antenas;\n",
    "- con **satélites de altimetría**: las misiones de altimetría proporcionan medidas de anomalías del nivel del mar (_sea level anomalies_), y a partir de ellas se puede derivar las corrientes geostróficas.\n",
    "- con un **Perfilador Acústico de corrientes Doppler** (_Acoustic Doppler Current Profiler_, ADCP): mide la velocidad a varias distancias del sensor."
   ]
  },
  {
   "cell_type": "code",
   "execution_count": null,
   "id": "dce57fc7-343b-4f43-a626-12eb4a1243b0",
   "metadata": {},
   "outputs": [],
   "source": [
    "s"
   ]
  }
 ],
 "metadata": {
  "kernelspec": {
   "display_name": "Python 3 (ipykernel)",
   "language": "python",
   "name": "python3"
  },
  "language_info": {
   "codemirror_mode": {
    "name": "ipython",
    "version": 3
   },
   "file_extension": ".py",
   "mimetype": "text/x-python",
   "name": "python",
   "nbconvert_exporter": "python",
   "pygments_lexer": "ipython3",
   "version": "3.12.3"
  }
 },
 "nbformat": 4,
 "nbformat_minor": 5
}
